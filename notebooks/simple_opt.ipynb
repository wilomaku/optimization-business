{
 "cells": [
  {
   "cell_type": "markdown",
   "metadata": {},
   "source": [
    "# Coupon campaign optimization using PuLP\n",
    "\n",
    "Author: William Javier Garcia Herrera - wilomaku@gmail.com\n",
    "\n",
    "Linear optimization is a method to optimize problems (maximize or minimize a function) given some constraints. The goal is to find the optimal coupon that maximizes the expected return of the user.\n",
    "\n",
    "A poorly designed coupon strategy can do serious harm to a business's profit margin [1]. The optimal coupon has a value as low as possible, guaranteeing conversion, and looking to the expected return of the user. The company should be more willing to give higher coupons to more valuable users.\n",
    "\n",
    "Since I am more interested in the optimization part, the user's value and the probability of conversion given a certain coupon, will be generated randomly. In the practice, these values should be given for a model. I will use an example of 10 synthetic users who will receive a coupon (ranging from 4 to 12 <your currency\\>). For optimization, I will use PuLP, a free open source software for Python to describe optimization problems as mathematical models [2,3]."
   ]
  },
  {
   "cell_type": "code",
   "execution_count": 1,
   "metadata": {
    "ExecuteTime": {
     "end_time": "2022-02-13T13:50:26.600998Z",
     "start_time": "2022-02-13T13:50:26.386661Z"
    }
   },
   "outputs": [],
   "source": [
    "# Loading libraries\n",
    "import numpy as np\n",
    "import datetime\n",
    "import pulp as plp\n",
    "import pandas as pd\n",
    "from random import random, sample, choices"
   ]
  },
  {
   "cell_type": "markdown",
   "metadata": {},
   "source": [
    "## Synthetic dataset\n",
    "\n",
    "The dataset is created with probabilities for n customers and c coupons (coupon_c > coupon 1), and Customer Life Time Value (CLTV) per user. In a real scenario, the probabilities and the cltv can be estimated by a model but since we are interested in the optimization part, they will be simulated."
   ]
  },
  {
   "cell_type": "code",
   "execution_count": 2,
   "metadata": {
    "ExecuteTime": {
     "end_time": "2022-02-13T13:50:27.307492Z",
     "start_time": "2022-02-13T13:50:27.287705Z"
    }
   },
   "outputs": [],
   "source": [
    "def create_customers(n, c):\n",
    "    '''\n",
    "        Generate synthetic n users with random probabilities for an array of coupons (c), and CLTV\n",
    "    '''\n",
    "    \n",
    "    # Multiplier to generate random probability (multiplier assures that probability keeps increasing\n",
    "    #   with higher coupons)\n",
    "    mults = np.arange(1, n, 1)/100\n",
    "    randommults = choices(mults, k=n)\n",
    "    \n",
    "    # Random CLTV between [30,120)\n",
    "    cltvs = np.arange(30, 120, 1)\n",
    "    randomcltvs = choices(cltvs, k=n)\n",
    "    \n",
    "    # DF appending probabilities and CLTV\n",
    "    cols_prob_coupon = ['prob_coupon_{}'.format(i) for i in c]\n",
    "    customers_df = pd.DataFrame(columns = cols_prob_coupon+['cltv'])\n",
    "    \n",
    "    # Loop to generate n synthetic users\n",
    "    for i in range(n):\n",
    "        probs = [j*randommults[i] for j in np.arange(1,len(c)+1,1)]\n",
    "        probs.append(randomcltvs[i])\n",
    "        customers_df.loc[i, cols_prob_coupon+['cltv']] = np.array(probs)\n",
    "    \n",
    "    return customers_df\n",
    "\n",
    "# Uncomment to generate synthetic dataset\n",
    "#coupons = np.arange(4,12,1)\n",
    "#df = create_customers(10, coupons)\n",
    "#df.to_csv('../data/synthetic_users.csv.gz', sep=';', index=False)"
   ]
  },
  {
   "cell_type": "code",
   "execution_count": 3,
   "metadata": {
    "ExecuteTime": {
     "end_time": "2022-02-13T13:50:29.157015Z",
     "start_time": "2022-02-13T13:50:29.115683Z"
    }
   },
   "outputs": [
    {
     "data": {
      "text/html": [
       "<div>\n",
       "<style scoped>\n",
       "    .dataframe tbody tr th:only-of-type {\n",
       "        vertical-align: middle;\n",
       "    }\n",
       "\n",
       "    .dataframe tbody tr th {\n",
       "        vertical-align: top;\n",
       "    }\n",
       "\n",
       "    .dataframe thead th {\n",
       "        text-align: right;\n",
       "    }\n",
       "</style>\n",
       "<table border=\"1\" class=\"dataframe\">\n",
       "  <thead>\n",
       "    <tr style=\"text-align: right;\">\n",
       "      <th></th>\n",
       "      <th>prob_coupon_4</th>\n",
       "      <th>prob_coupon_5</th>\n",
       "      <th>prob_coupon_6</th>\n",
       "      <th>prob_coupon_7</th>\n",
       "      <th>prob_coupon_8</th>\n",
       "      <th>prob_coupon_9</th>\n",
       "      <th>prob_coupon_10</th>\n",
       "      <th>prob_coupon_11</th>\n",
       "      <th>cltv</th>\n",
       "    </tr>\n",
       "  </thead>\n",
       "  <tbody>\n",
       "    <tr>\n",
       "      <th>0</th>\n",
       "      <td>0.06</td>\n",
       "      <td>0.12</td>\n",
       "      <td>0.18</td>\n",
       "      <td>0.24</td>\n",
       "      <td>0.30</td>\n",
       "      <td>0.36</td>\n",
       "      <td>0.42</td>\n",
       "      <td>0.48</td>\n",
       "      <td>98.0</td>\n",
       "    </tr>\n",
       "    <tr>\n",
       "      <th>1</th>\n",
       "      <td>0.06</td>\n",
       "      <td>0.12</td>\n",
       "      <td>0.18</td>\n",
       "      <td>0.24</td>\n",
       "      <td>0.30</td>\n",
       "      <td>0.36</td>\n",
       "      <td>0.42</td>\n",
       "      <td>0.48</td>\n",
       "      <td>82.0</td>\n",
       "    </tr>\n",
       "    <tr>\n",
       "      <th>2</th>\n",
       "      <td>0.03</td>\n",
       "      <td>0.06</td>\n",
       "      <td>0.09</td>\n",
       "      <td>0.12</td>\n",
       "      <td>0.15</td>\n",
       "      <td>0.18</td>\n",
       "      <td>0.21</td>\n",
       "      <td>0.24</td>\n",
       "      <td>112.0</td>\n",
       "    </tr>\n",
       "    <tr>\n",
       "      <th>3</th>\n",
       "      <td>0.01</td>\n",
       "      <td>0.02</td>\n",
       "      <td>0.03</td>\n",
       "      <td>0.04</td>\n",
       "      <td>0.05</td>\n",
       "      <td>0.06</td>\n",
       "      <td>0.07</td>\n",
       "      <td>0.08</td>\n",
       "      <td>91.0</td>\n",
       "    </tr>\n",
       "    <tr>\n",
       "      <th>4</th>\n",
       "      <td>0.06</td>\n",
       "      <td>0.12</td>\n",
       "      <td>0.18</td>\n",
       "      <td>0.24</td>\n",
       "      <td>0.30</td>\n",
       "      <td>0.36</td>\n",
       "      <td>0.42</td>\n",
       "      <td>0.48</td>\n",
       "      <td>80.0</td>\n",
       "    </tr>\n",
       "    <tr>\n",
       "      <th>5</th>\n",
       "      <td>0.01</td>\n",
       "      <td>0.02</td>\n",
       "      <td>0.03</td>\n",
       "      <td>0.04</td>\n",
       "      <td>0.05</td>\n",
       "      <td>0.06</td>\n",
       "      <td>0.07</td>\n",
       "      <td>0.08</td>\n",
       "      <td>87.0</td>\n",
       "    </tr>\n",
       "    <tr>\n",
       "      <th>6</th>\n",
       "      <td>0.04</td>\n",
       "      <td>0.08</td>\n",
       "      <td>0.12</td>\n",
       "      <td>0.16</td>\n",
       "      <td>0.20</td>\n",
       "      <td>0.24</td>\n",
       "      <td>0.28</td>\n",
       "      <td>0.32</td>\n",
       "      <td>35.0</td>\n",
       "    </tr>\n",
       "    <tr>\n",
       "      <th>7</th>\n",
       "      <td>0.06</td>\n",
       "      <td>0.12</td>\n",
       "      <td>0.18</td>\n",
       "      <td>0.24</td>\n",
       "      <td>0.30</td>\n",
       "      <td>0.36</td>\n",
       "      <td>0.42</td>\n",
       "      <td>0.48</td>\n",
       "      <td>40.0</td>\n",
       "    </tr>\n",
       "    <tr>\n",
       "      <th>8</th>\n",
       "      <td>0.04</td>\n",
       "      <td>0.08</td>\n",
       "      <td>0.12</td>\n",
       "      <td>0.16</td>\n",
       "      <td>0.20</td>\n",
       "      <td>0.24</td>\n",
       "      <td>0.28</td>\n",
       "      <td>0.32</td>\n",
       "      <td>46.0</td>\n",
       "    </tr>\n",
       "    <tr>\n",
       "      <th>9</th>\n",
       "      <td>0.01</td>\n",
       "      <td>0.02</td>\n",
       "      <td>0.03</td>\n",
       "      <td>0.04</td>\n",
       "      <td>0.05</td>\n",
       "      <td>0.06</td>\n",
       "      <td>0.07</td>\n",
       "      <td>0.08</td>\n",
       "      <td>80.0</td>\n",
       "    </tr>\n",
       "  </tbody>\n",
       "</table>\n",
       "</div>"
      ],
      "text/plain": [
       "   prob_coupon_4  prob_coupon_5  prob_coupon_6  prob_coupon_7  prob_coupon_8  \\\n",
       "0           0.06           0.12           0.18           0.24           0.30   \n",
       "1           0.06           0.12           0.18           0.24           0.30   \n",
       "2           0.03           0.06           0.09           0.12           0.15   \n",
       "3           0.01           0.02           0.03           0.04           0.05   \n",
       "4           0.06           0.12           0.18           0.24           0.30   \n",
       "5           0.01           0.02           0.03           0.04           0.05   \n",
       "6           0.04           0.08           0.12           0.16           0.20   \n",
       "7           0.06           0.12           0.18           0.24           0.30   \n",
       "8           0.04           0.08           0.12           0.16           0.20   \n",
       "9           0.01           0.02           0.03           0.04           0.05   \n",
       "\n",
       "   prob_coupon_9  prob_coupon_10  prob_coupon_11   cltv  \n",
       "0           0.36            0.42            0.48   98.0  \n",
       "1           0.36            0.42            0.48   82.0  \n",
       "2           0.18            0.21            0.24  112.0  \n",
       "3           0.06            0.07            0.08   91.0  \n",
       "4           0.36            0.42            0.48   80.0  \n",
       "5           0.06            0.07            0.08   87.0  \n",
       "6           0.24            0.28            0.32   35.0  \n",
       "7           0.36            0.42            0.48   40.0  \n",
       "8           0.24            0.28            0.32   46.0  \n",
       "9           0.06            0.07            0.08   80.0  "
      ]
     },
     "execution_count": 3,
     "metadata": {},
     "output_type": "execute_result"
    }
   ],
   "source": [
    "df = pd.read_csv('../data/synthetic_users.csv.gz', sep=';')\n",
    "df"
   ]
  },
  {
   "cell_type": "markdown",
   "metadata": {},
   "source": [
    "## BAU approach\n",
    "\n",
    "One possible estrategy to assign coupons without optimization is to give a coupon with a value equal to 10% of the user's cltv. This is the Business As Usual (BAU) approach. The Return Over Investment (ROI) of the campaign is calculated as the sum of the expected return of the users minus the total coupons invested value."
   ]
  },
  {
   "cell_type": "code",
   "execution_count": 4,
   "metadata": {
    "ExecuteTime": {
     "end_time": "2022-02-13T13:50:29.969572Z",
     "start_time": "2022-02-13T13:50:29.953540Z"
    }
   },
   "outputs": [
    {
     "data": {
      "text/html": [
       "<div>\n",
       "<style scoped>\n",
       "    .dataframe tbody tr th:only-of-type {\n",
       "        vertical-align: middle;\n",
       "    }\n",
       "\n",
       "    .dataframe tbody tr th {\n",
       "        vertical-align: top;\n",
       "    }\n",
       "\n",
       "    .dataframe thead th {\n",
       "        text-align: right;\n",
       "    }\n",
       "</style>\n",
       "<table border=\"1\" class=\"dataframe\">\n",
       "  <thead>\n",
       "    <tr style=\"text-align: right;\">\n",
       "      <th></th>\n",
       "      <th>cltv</th>\n",
       "      <th>coupon_bau</th>\n",
       "      <th>prob_coupon_bau</th>\n",
       "      <th>roi_bau</th>\n",
       "    </tr>\n",
       "  </thead>\n",
       "  <tbody>\n",
       "    <tr>\n",
       "      <th>0</th>\n",
       "      <td>98.0</td>\n",
       "      <td>10</td>\n",
       "      <td>0.42</td>\n",
       "      <td>36.96</td>\n",
       "    </tr>\n",
       "    <tr>\n",
       "      <th>1</th>\n",
       "      <td>82.0</td>\n",
       "      <td>8</td>\n",
       "      <td>0.30</td>\n",
       "      <td>22.20</td>\n",
       "    </tr>\n",
       "    <tr>\n",
       "      <th>2</th>\n",
       "      <td>112.0</td>\n",
       "      <td>11</td>\n",
       "      <td>0.24</td>\n",
       "      <td>24.24</td>\n",
       "    </tr>\n",
       "    <tr>\n",
       "      <th>3</th>\n",
       "      <td>91.0</td>\n",
       "      <td>9</td>\n",
       "      <td>0.06</td>\n",
       "      <td>4.92</td>\n",
       "    </tr>\n",
       "    <tr>\n",
       "      <th>4</th>\n",
       "      <td>80.0</td>\n",
       "      <td>8</td>\n",
       "      <td>0.30</td>\n",
       "      <td>21.60</td>\n",
       "    </tr>\n",
       "    <tr>\n",
       "      <th>5</th>\n",
       "      <td>87.0</td>\n",
       "      <td>9</td>\n",
       "      <td>0.06</td>\n",
       "      <td>4.68</td>\n",
       "    </tr>\n",
       "    <tr>\n",
       "      <th>6</th>\n",
       "      <td>35.0</td>\n",
       "      <td>4</td>\n",
       "      <td>0.04</td>\n",
       "      <td>1.24</td>\n",
       "    </tr>\n",
       "    <tr>\n",
       "      <th>7</th>\n",
       "      <td>40.0</td>\n",
       "      <td>4</td>\n",
       "      <td>0.06</td>\n",
       "      <td>2.16</td>\n",
       "    </tr>\n",
       "    <tr>\n",
       "      <th>8</th>\n",
       "      <td>46.0</td>\n",
       "      <td>5</td>\n",
       "      <td>0.08</td>\n",
       "      <td>3.28</td>\n",
       "    </tr>\n",
       "    <tr>\n",
       "      <th>9</th>\n",
       "      <td>80.0</td>\n",
       "      <td>8</td>\n",
       "      <td>0.05</td>\n",
       "      <td>3.60</td>\n",
       "    </tr>\n",
       "  </tbody>\n",
       "</table>\n",
       "</div>"
      ],
      "text/plain": [
       "    cltv  coupon_bau  prob_coupon_bau  roi_bau\n",
       "0   98.0          10             0.42    36.96\n",
       "1   82.0           8             0.30    22.20\n",
       "2  112.0          11             0.24    24.24\n",
       "3   91.0           9             0.06     4.92\n",
       "4   80.0           8             0.30    21.60\n",
       "5   87.0           9             0.06     4.68\n",
       "6   35.0           4             0.04     1.24\n",
       "7   40.0           4             0.06     2.16\n",
       "8   46.0           5             0.08     3.28\n",
       "9   80.0           8             0.05     3.60"
      ]
     },
     "execution_count": 4,
     "metadata": {},
     "output_type": "execute_result"
    }
   ],
   "source": [
    "# Extracting pre-stablished coupon values\n",
    "coupons = [int(col.split('_')[-1]) for col in df.columns if 'cltv' not in col]\n",
    "\n",
    "# Assingned coupon = 10%*cltv \n",
    "coupons_bau = np.array(round(df['cltv']*0.1)).astype(int)\n",
    "\n",
    "# Adding BAU columns\n",
    "df['coupon_bau'] = coupons_bau\n",
    "df['prob_coupon_bau'] = df.apply(lambda x: x['prob_coupon_{}'.format(int(x['coupon_bau']))], axis=1)\n",
    "df['roi_bau'] = df['prob_coupon_bau']*(df['cltv'] - df['coupon_bau'])\n",
    "df[['cltv','coupon_bau','prob_coupon_bau','roi_bau']]"
   ]
  },
  {
   "cell_type": "code",
   "execution_count": 5,
   "metadata": {
    "ExecuteTime": {
     "end_time": "2022-02-13T13:50:32.336181Z",
     "start_time": "2022-02-13T13:50:32.330304Z"
    }
   },
   "outputs": [
    {
     "name": "stdout",
     "output_type": "stream",
     "text": [
      "Expected ROI for BAU: 124.88\n"
     ]
    }
   ],
   "source": [
    "# Revenue expected for BAU of coupon based on 10% of the CLTV\n",
    "ROI_BAU = df['roi_bau'].sum()\n",
    "print('Expected ROI for BAU: {}'.format(ROI_BAU))"
   ]
  },
  {
   "cell_type": "markdown",
   "metadata": {},
   "source": [
    "## Optimization approach\n",
    "\n",
    "The goal of the optimizer is to give a recommended coupon per user. In order to do that, we need: 1)Input matrices, 2) Constraints, 3) Objective function."
   ]
  },
  {
   "cell_type": "code",
   "execution_count": 6,
   "metadata": {
    "ExecuteTime": {
     "end_time": "2022-02-13T13:50:33.262511Z",
     "start_time": "2022-02-13T13:50:33.257918Z"
    }
   },
   "outputs": [
    {
     "name": "stdout",
     "output_type": "stream",
     "text": [
      "users: [0, 1, 2, 3, 4, 5, 6, 7, 8, 9]\n",
      "coupons: [4, 5, 6, 7, 8, 9, 10, 11]\n",
      "\tPossible coupons per user:\n",
      "\n"
     ]
    },
    {
     "data": {
      "text/plain": [
       "{0: [4, 5, 6, 7, 8, 9, 10, 11],\n",
       " 1: [4, 5, 6, 7, 8, 9, 10, 11],\n",
       " 2: [4, 5, 6, 7, 8, 9, 10, 11],\n",
       " 3: [4, 5, 6, 7, 8, 9, 10, 11],\n",
       " 4: [4, 5, 6, 7, 8, 9, 10, 11],\n",
       " 5: [4, 5, 6, 7, 8, 9, 10, 11],\n",
       " 6: [4, 5, 6, 7, 8, 9, 10, 11],\n",
       " 7: [4, 5, 6, 7, 8, 9, 10, 11],\n",
       " 8: [4, 5, 6, 7, 8, 9, 10, 11],\n",
       " 9: [4, 5, 6, 7, 8, 9, 10, 11]}"
      ]
     },
     "execution_count": 6,
     "metadata": {},
     "output_type": "execute_result"
    }
   ],
   "source": [
    "# Preparing potential coupons per user\n",
    "set_users = list(df.index)\n",
    "print('users: {}'.format(set_users))\n",
    "print('coupons: {}'.format(coupons))\n",
    "\n",
    "coupons_per_user = {i: coupons for i in set_users}\n",
    "\n",
    "print('\\tPossible coupons per user:\\n')\n",
    "coupons_per_user"
   ]
  },
  {
   "cell_type": "markdown",
   "metadata": {},
   "source": [
    "### Input matrices\n",
    "Arrays of features used to describe the search space.\n",
    "\n",
    "* x: Decision matrix stating the selected coupon that will be defined by the optimizer (x: [1,0])\n",
    "* a: Coupon matrix\n",
    "* c: Probability matrix\n",
    "* d: Expected return (CLTV - coupon)\n",
    "* b: Total budget constraint. It will be used the same budget as for the BAU (10% of the CLTV)"
   ]
  },
  {
   "cell_type": "code",
   "execution_count": 7,
   "metadata": {
    "ExecuteTime": {
     "end_time": "2022-02-13T13:50:37.727903Z",
     "start_time": "2022-02-13T13:50:37.697436Z"
    }
   },
   "outputs": [
    {
     "name": "stdout",
     "output_type": "stream",
     "text": [
      "Create matrices...\n",
      "\n"
     ]
    }
   ],
   "source": [
    "# Input matrices\n",
    "print('Create matrices...\\n')\n",
    "\n",
    "x = dict()\n",
    "a = dict()\n",
    "c = dict()\n",
    "d = dict()\n",
    "b = (df['cltv'].sum())/10\n",
    "\n",
    "for k, i in enumerate(set_users):\n",
    "    for j in coupons_per_user[i]:\n",
    "       \n",
    "        x[(i, j)] = plp.LpVariable(cat=plp.LpInteger, lowBound=0, upBound=1, name=\"x_{0}_{1}\".format(i, j))\n",
    "        a[(i, j)] = j\n",
    "        c[(i, j)] = df.loc[i]['prob_coupon_{}'.format(j)]\n",
    "        d[(i,j)] = df.loc[i]['cltv'] - j"
   ]
  },
  {
   "cell_type": "markdown",
   "metadata": {},
   "source": [
    "### Constraints\n",
    "\n",
    "Mandatory restrictions passed to the optimizer. We enforce two contraints:\n",
    "\n",
    "* Only one coupon per user\n",
    "* The total sum of the coupons should be less or equal than the total budget (10% of the CLTV)"
   ]
  },
  {
   "cell_type": "code",
   "execution_count": 8,
   "metadata": {
    "ExecuteTime": {
     "end_time": "2022-02-13T13:50:39.257400Z",
     "start_time": "2022-02-13T13:50:39.234239Z"
    }
   },
   "outputs": [
    {
     "name": "stdout",
     "output_type": "stream",
     "text": [
      "Define constraints...\n",
      "\n",
      "\tRestriction 1 (Only one coupon per user): sum(x[i, :]) = 1...\n",
      "\n",
      "\tRestriction 2: budget <= 75.1...\n",
      "\n"
     ]
    }
   ],
   "source": [
    "# Constraints\n",
    "print('Define constraints...\\n')\n",
    "\n",
    "print('\\tRestriction 1 (Only one coupon per user): sum(x[i, :]) = 1...\\n')\n",
    "\n",
    "constraints = {i:\n",
    "               plp.LpConstraint(\n",
    "                   e=plp.lpSum(x[i, j]\n",
    "                               for j in coupons_per_user[i]), \n",
    "                   sense=plp.LpConstraintEQ,\n",
    "                   rhs=1*(len(coupons_per_user[i]) > 0),\n",
    "                   name=\"constraint_{0}\".format(i))\n",
    "               for i in set_users}\n",
    "\n",
    "print('\\tRestriction 2: budget <= {}...\\n'.format(b))\n",
    "\n",
    "constraints[-1] = plp.LpConstraint(\n",
    "    e=plp.lpSum(a[i, j] * x[i, j] for i in set_users for j in coupons_per_user[i]), \n",
    "    sense=plp.LpConstraintLE,\n",
    "    rhs=b,\n",
    "    name=\"constraint_b\")"
   ]
  },
  {
   "cell_type": "markdown",
   "metadata": {},
   "source": [
    "### Objective function\n",
    "\n",
    "Function to be maximized (or minimized). In this problem, we are interested in maximizing the expected return after giving the optimal coupon, that is the user's CLTV minus the optimal coupon, given the probability of accepting this coupon:\n",
    "\n",
    "$\\max_{x: [0,1]} f(d,c,x) = d_ij * c_ij * x_ij$"
   ]
  },
  {
   "cell_type": "code",
   "execution_count": 9,
   "metadata": {
    "ExecuteTime": {
     "end_time": "2022-02-13T13:50:42.123770Z",
     "start_time": "2022-02-13T13:50:42.106606Z"
    }
   },
   "outputs": [
    {
     "name": "stdout",
     "output_type": "stream",
     "text": [
      "Define objective function\n",
      "\n",
      "Create optimization problem...\n",
      "\n"
     ]
    },
    {
     "name": "stderr",
     "output_type": "stream",
     "text": [
      "/home/wilomaku/anaconda3/lib/python3.8/site-packages/pulp/pulp.py:1198: UserWarning: Spaces are not permitted in the name. Converted to '_'\n",
      "  warnings.warn(\"Spaces are not permitted in the name. Converted to '_'\")\n"
     ]
    }
   ],
   "source": [
    "# Objective function\n",
    "print('Define objective function\\n')\n",
    "\n",
    "objective = plp.lpSum(x[i, j] * c[i, j] * d[i,j] for i in set_users for j in coupons_per_user[i])\n",
    "\n",
    "# Putting all together - Creating optimization problem\n",
    "print('Create optimization problem...\\n')\n",
    "\n",
    "opt_model = plp.LpProblem(name='Optimization Coupon Model')\n",
    "\n",
    "for k in constraints.keys():\n",
    "    opt_model.addConstraint(constraints[k])\n",
    "\n",
    "opt_model.sense = plp.LpMaximize\n",
    "opt_model.setObjective(objective)"
   ]
  },
  {
   "cell_type": "markdown",
   "metadata": {},
   "source": [
    "### Solving"
   ]
  },
  {
   "cell_type": "code",
   "execution_count": 10,
   "metadata": {
    "ExecuteTime": {
     "end_time": "2022-02-13T13:50:45.947367Z",
     "start_time": "2022-02-13T13:50:45.921338Z"
    }
   },
   "outputs": [
    {
     "name": "stdout",
     "output_type": "stream",
     "text": [
      "Problem Optimal!\n",
      "\n",
      "\tPrepare coupon data\n",
      "\n",
      "\tObjective function at optimal: 152.86\n"
     ]
    }
   ],
   "source": [
    "# Solving the optimization problem\n",
    "opt_model.solve()\n",
    "\n",
    "print('Problem {}!\\n'.format(plp.constants.LpStatus[opt_model.status]))\n",
    "\n",
    "print('\\tPrepare coupon data\\n')\n",
    "df['coupon_opt'] = np.NaN\n",
    "for var in opt_model.variables():\n",
    "\n",
    "    if var.varValue == 1:\n",
    "        i, j = int(var.name.split('_')[1]), int(var.name.split('_')[2])\n",
    "        df.loc[i, 'coupon_opt'] = j\n",
    "        \n",
    "print('\\tObjective function at optimal: {}'.format(opt_model.objective.value()))"
   ]
  },
  {
   "cell_type": "code",
   "execution_count": 11,
   "metadata": {
    "ExecuteTime": {
     "end_time": "2022-02-13T13:50:48.266164Z",
     "start_time": "2022-02-13T13:50:48.234967Z"
    }
   },
   "outputs": [
    {
     "data": {
      "text/html": [
       "<div>\n",
       "<style scoped>\n",
       "    .dataframe tbody tr th:only-of-type {\n",
       "        vertical-align: middle;\n",
       "    }\n",
       "\n",
       "    .dataframe tbody tr th {\n",
       "        vertical-align: top;\n",
       "    }\n",
       "\n",
       "    .dataframe thead th {\n",
       "        text-align: right;\n",
       "    }\n",
       "</style>\n",
       "<table border=\"1\" class=\"dataframe\">\n",
       "  <thead>\n",
       "    <tr style=\"text-align: right;\">\n",
       "      <th></th>\n",
       "      <th>cltv</th>\n",
       "      <th>coupon_bau</th>\n",
       "      <th>prob_coupon_bau</th>\n",
       "      <th>roi_bau</th>\n",
       "      <th>coupon_opt</th>\n",
       "      <th>prob_coupon_opt</th>\n",
       "      <th>roi_opt</th>\n",
       "    </tr>\n",
       "  </thead>\n",
       "  <tbody>\n",
       "    <tr>\n",
       "      <th>0</th>\n",
       "      <td>98.0</td>\n",
       "      <td>10</td>\n",
       "      <td>0.42</td>\n",
       "      <td>36.96</td>\n",
       "      <td>11.0</td>\n",
       "      <td>0.48</td>\n",
       "      <td>41.76</td>\n",
       "    </tr>\n",
       "    <tr>\n",
       "      <th>1</th>\n",
       "      <td>82.0</td>\n",
       "      <td>8</td>\n",
       "      <td>0.30</td>\n",
       "      <td>22.20</td>\n",
       "      <td>11.0</td>\n",
       "      <td>0.48</td>\n",
       "      <td>34.08</td>\n",
       "    </tr>\n",
       "    <tr>\n",
       "      <th>2</th>\n",
       "      <td>112.0</td>\n",
       "      <td>11</td>\n",
       "      <td>0.24</td>\n",
       "      <td>24.24</td>\n",
       "      <td>11.0</td>\n",
       "      <td>0.24</td>\n",
       "      <td>24.24</td>\n",
       "    </tr>\n",
       "    <tr>\n",
       "      <th>3</th>\n",
       "      <td>91.0</td>\n",
       "      <td>9</td>\n",
       "      <td>0.06</td>\n",
       "      <td>4.92</td>\n",
       "      <td>4.0</td>\n",
       "      <td>0.01</td>\n",
       "      <td>0.87</td>\n",
       "    </tr>\n",
       "    <tr>\n",
       "      <th>4</th>\n",
       "      <td>80.0</td>\n",
       "      <td>8</td>\n",
       "      <td>0.30</td>\n",
       "      <td>21.60</td>\n",
       "      <td>11.0</td>\n",
       "      <td>0.48</td>\n",
       "      <td>33.12</td>\n",
       "    </tr>\n",
       "    <tr>\n",
       "      <th>5</th>\n",
       "      <td>87.0</td>\n",
       "      <td>9</td>\n",
       "      <td>0.06</td>\n",
       "      <td>4.68</td>\n",
       "      <td>4.0</td>\n",
       "      <td>0.01</td>\n",
       "      <td>0.83</td>\n",
       "    </tr>\n",
       "    <tr>\n",
       "      <th>6</th>\n",
       "      <td>35.0</td>\n",
       "      <td>4</td>\n",
       "      <td>0.04</td>\n",
       "      <td>1.24</td>\n",
       "      <td>4.0</td>\n",
       "      <td>0.04</td>\n",
       "      <td>1.24</td>\n",
       "    </tr>\n",
       "    <tr>\n",
       "      <th>7</th>\n",
       "      <td>40.0</td>\n",
       "      <td>4</td>\n",
       "      <td>0.06</td>\n",
       "      <td>2.16</td>\n",
       "      <td>9.0</td>\n",
       "      <td>0.36</td>\n",
       "      <td>11.16</td>\n",
       "    </tr>\n",
       "    <tr>\n",
       "      <th>8</th>\n",
       "      <td>46.0</td>\n",
       "      <td>5</td>\n",
       "      <td>0.08</td>\n",
       "      <td>3.28</td>\n",
       "      <td>6.0</td>\n",
       "      <td>0.12</td>\n",
       "      <td>4.80</td>\n",
       "    </tr>\n",
       "    <tr>\n",
       "      <th>9</th>\n",
       "      <td>80.0</td>\n",
       "      <td>8</td>\n",
       "      <td>0.05</td>\n",
       "      <td>3.60</td>\n",
       "      <td>4.0</td>\n",
       "      <td>0.01</td>\n",
       "      <td>0.76</td>\n",
       "    </tr>\n",
       "  </tbody>\n",
       "</table>\n",
       "</div>"
      ],
      "text/plain": [
       "    cltv  coupon_bau  prob_coupon_bau  roi_bau  coupon_opt  prob_coupon_opt  \\\n",
       "0   98.0          10             0.42    36.96        11.0             0.48   \n",
       "1   82.0           8             0.30    22.20        11.0             0.48   \n",
       "2  112.0          11             0.24    24.24        11.0             0.24   \n",
       "3   91.0           9             0.06     4.92         4.0             0.01   \n",
       "4   80.0           8             0.30    21.60        11.0             0.48   \n",
       "5   87.0           9             0.06     4.68         4.0             0.01   \n",
       "6   35.0           4             0.04     1.24         4.0             0.04   \n",
       "7   40.0           4             0.06     2.16         9.0             0.36   \n",
       "8   46.0           5             0.08     3.28         6.0             0.12   \n",
       "9   80.0           8             0.05     3.60         4.0             0.01   \n",
       "\n",
       "   roi_opt  \n",
       "0    41.76  \n",
       "1    34.08  \n",
       "2    24.24  \n",
       "3     0.87  \n",
       "4    33.12  \n",
       "5     0.83  \n",
       "6     1.24  \n",
       "7    11.16  \n",
       "8     4.80  \n",
       "9     0.76  "
      ]
     },
     "execution_count": 11,
     "metadata": {},
     "output_type": "execute_result"
    }
   ],
   "source": [
    "# Adding optimization columns\n",
    "df['prob_coupon_opt'] = df.apply(lambda x: x['prob_coupon_{}'.format(int(x['coupon_opt']))], axis=1)\n",
    "df['roi_opt'] = df['prob_coupon_opt']*(df['cltv'] - df['coupon_opt'])\n",
    "df[['cltv','coupon_bau','prob_coupon_bau','roi_bau','coupon_opt','prob_coupon_opt','roi_opt']]"
   ]
  },
  {
   "cell_type": "code",
   "execution_count": 12,
   "metadata": {
    "ExecuteTime": {
     "end_time": "2022-02-13T13:50:48.546184Z",
     "start_time": "2022-02-13T13:50:48.543103Z"
    }
   },
   "outputs": [
    {
     "name": "stdout",
     "output_type": "stream",
     "text": [
      "Expected ROI for optimizer: 152.86\n"
     ]
    }
   ],
   "source": [
    "# Revenue expected for optimal coupons\n",
    "ROI_OPT = df['roi_opt'].sum()\n",
    "print('Expected ROI for optimizer: {}'.format(ROI_OPT))"
   ]
  },
  {
   "cell_type": "markdown",
   "metadata": {},
   "source": [
    "## Comparison BAU vs Optimization\n",
    "\n",
    "Conclusion: The optimization of the coupons got 22% higher expected ROI over the classical BAU approach."
   ]
  },
  {
   "cell_type": "code",
   "execution_count": 13,
   "metadata": {
    "ExecuteTime": {
     "end_time": "2022-02-13T13:50:51.172663Z",
     "start_time": "2022-02-13T13:50:51.169090Z"
    }
   },
   "outputs": [
    {
     "data": {
      "text/plain": [
       "0.22405509288917377"
      ]
     },
     "execution_count": 13,
     "metadata": {},
     "output_type": "execute_result"
    }
   ],
   "source": [
    "(ROI_OPT - ROI_BAU) / (ROI_BAU)"
   ]
  },
  {
   "cell_type": "markdown",
   "metadata": {},
   "source": [
    "## References\n",
    "\n",
    "[1] The Perils of Social Coupon Campaigns. V. Kumar, B. Rajan. MIT Sloan. 2012. https://sloanreview.mit.edu/wp-content/uploads/2012/05/17a163f6ab.pdf\n",
    "\n",
    "[2] PuLP. https://coin-or.github.io/pulp/main/index.html\n",
    "\n",
    "[3] Linear programming and discrete optimization with Python using PuLP. T. Sarkar. Towards Data Science. 2019. https://towardsdatascience.com/linear-programming-and-discrete-optimization-with-python-using-pulp-449f3c5f6e99"
   ]
  }
 ],
 "metadata": {
  "kernelspec": {
   "display_name": "Python 3",
   "language": "python",
   "name": "python3"
  },
  "language_info": {
   "codemirror_mode": {
    "name": "ipython",
    "version": 3
   },
   "file_extension": ".py",
   "mimetype": "text/x-python",
   "name": "python",
   "nbconvert_exporter": "python",
   "pygments_lexer": "ipython3",
   "version": "3.8.3"
  },
  "toc": {
   "base_numbering": 1,
   "nav_menu": {},
   "number_sections": true,
   "sideBar": true,
   "skip_h1_title": false,
   "title_cell": "Table of Contents",
   "title_sidebar": "Contents",
   "toc_cell": false,
   "toc_position": {},
   "toc_section_display": true,
   "toc_window_display": false
  }
 },
 "nbformat": 4,
 "nbformat_minor": 4
}
