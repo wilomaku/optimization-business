{
 "cells": [
  {
   "cell_type": "markdown",
   "metadata": {},
   "source": [
    "# Coupon optimization model using PULP"
   ]
  },
  {
   "cell_type": "markdown",
   "metadata": {},
   "source": [
    "Linear optimization is a method to optimize problems (maximize or minimize a function) given some constraints. In this notebook, we will use an example of 3 \"fake\" users who are candidate to receive a coupon (ranging from 2 to 10). To perform the optimization, we need two inputs:\n",
    "\n",
    "* Probability of accepting (conversion probability) for every possible coupon. While in this example we will simulate \"fake\" but consistent probabilities, in the real life this probabilities will be obtained from a ML model.\n",
    "* Expected return of the user. In this example, we will invent the expected return of the users, but in the real life this expected return will come from a common businees metric such as the LTV.\n",
    "\n",
    "For optimizing, there are two main components we need to keep in mind:\n",
    "\n",
    "* Objective: Function to optimize. In this case, we will maximize the revenue given a certain coupon n:\n",
    "\n",
    "    $ revenue = p(conversion | cn) * (LTV - cn)$\n",
    "\n",
    "    where $p(conversion | cn)$ is the probability of accepting coupon n (or conversion probability given coupon n), $LTV$ is the user's expected return, and $cn$ is the coupon value.\n",
    "\n",
    "* Constraints: They are the restrictions given by the problem's design. The constrains are used to obtain the result within we are expecting and for limiting the searchin space of the problem.\n",
    "\n",
    "    * One coupon per user\n",
    "    * $\\sum c_i <= b$: Sum of coupons cannot exceed the budget (b)"
   ]
  },
  {
   "cell_type": "code",
   "execution_count": 1,
   "metadata": {
    "ExecuteTime": {
     "end_time": "2022-02-09T21:00:43.846599Z",
     "start_time": "2022-02-09T21:00:43.424547Z"
    }
   },
   "outputs": [],
   "source": [
    "import numpy as np\n",
    "import datetime\n",
    "import pulp as plp\n",
    "import pandas as pd\n",
    "from random import random, sample, choices"
   ]
  },
  {
   "cell_type": "markdown",
   "metadata": {},
   "source": [
    "## Synthetic dataset\n",
    "\n",
    "The dataset is created with probabilities for n customers and c coupons (coupon_c > coupon 1), and cltv per user. In a real scenario, the probabilities and the cltv can be estimated by a model but since we are interested in the optimizer, they will be simulated."
   ]
  },
  {
   "cell_type": "code",
   "execution_count": 23,
   "metadata": {
    "ExecuteTime": {
     "end_time": "2022-02-09T21:55:38.123263Z",
     "start_time": "2022-02-09T21:55:38.103847Z"
    }
   },
   "outputs": [],
   "source": [
    "def create_customers(n, c):\n",
    "    '''\n",
    "        Generate synthetic users with random probabilities and CLTV\n",
    "    '''\n",
    "    \n",
    "    # Multiplier to generate random probability (multiplier assure probability keeps increasing)\n",
    "    mults = np.arange(1, n, 1)/100\n",
    "    randommults = choices(mults, k=n)\n",
    "    \n",
    "    # Random CLTV between [30,120)\n",
    "    cltvs = np.arange(30, 120, 1)\n",
    "    randomcltvs = choices(cltvs, k=n)\n",
    "    \n",
    "    # DF appending probabilities and CLTV\n",
    "    cols_prob_coupon = ['prob_coupon_{}'.format(i) for i in c]\n",
    "    customers_df = pd.DataFrame(columns = cols_prob_coupon+['cltv'])\n",
    "    \n",
    "    # Loop to generate n synthetic customers\n",
    "    for i in range(n):\n",
    "        probs = [j*randommults[i] for j in np.arange(1,len(c)+1,1)]\n",
    "        probs.append(randomcltvs[i])\n",
    "        customers_df.loc[i, cols_prob_coupon+['cltv']] = np.array(probs)\n",
    "    \n",
    "    return customers_df\n",
    "\n",
    "# Uncomment to generate synthetic dataset\n",
    "#coupons = np.arange(4,12,1)\n",
    "#df = create_customers(10, coupons)\n",
    "#df.to_csv('../data/synthetic_users.csv.gz', sep=';', index=False)"
   ]
  },
  {
   "cell_type": "code",
   "execution_count": 24,
   "metadata": {
    "ExecuteTime": {
     "end_time": "2022-02-09T21:55:38.490548Z",
     "start_time": "2022-02-09T21:55:38.474183Z"
    }
   },
   "outputs": [
    {
     "data": {
      "text/html": [
       "<div>\n",
       "<style scoped>\n",
       "    .dataframe tbody tr th:only-of-type {\n",
       "        vertical-align: middle;\n",
       "    }\n",
       "\n",
       "    .dataframe tbody tr th {\n",
       "        vertical-align: top;\n",
       "    }\n",
       "\n",
       "    .dataframe thead th {\n",
       "        text-align: right;\n",
       "    }\n",
       "</style>\n",
       "<table border=\"1\" class=\"dataframe\">\n",
       "  <thead>\n",
       "    <tr style=\"text-align: right;\">\n",
       "      <th></th>\n",
       "      <th>prob_coupon_4</th>\n",
       "      <th>prob_coupon_5</th>\n",
       "      <th>prob_coupon_6</th>\n",
       "      <th>prob_coupon_7</th>\n",
       "      <th>prob_coupon_8</th>\n",
       "      <th>prob_coupon_9</th>\n",
       "      <th>prob_coupon_10</th>\n",
       "      <th>prob_coupon_11</th>\n",
       "      <th>cltv</th>\n",
       "    </tr>\n",
       "  </thead>\n",
       "  <tbody>\n",
       "    <tr>\n",
       "      <th>0</th>\n",
       "      <td>0.06</td>\n",
       "      <td>0.12</td>\n",
       "      <td>0.18</td>\n",
       "      <td>0.24</td>\n",
       "      <td>0.30</td>\n",
       "      <td>0.36</td>\n",
       "      <td>0.42</td>\n",
       "      <td>0.48</td>\n",
       "      <td>98.0</td>\n",
       "    </tr>\n",
       "    <tr>\n",
       "      <th>1</th>\n",
       "      <td>0.06</td>\n",
       "      <td>0.12</td>\n",
       "      <td>0.18</td>\n",
       "      <td>0.24</td>\n",
       "      <td>0.30</td>\n",
       "      <td>0.36</td>\n",
       "      <td>0.42</td>\n",
       "      <td>0.48</td>\n",
       "      <td>82.0</td>\n",
       "    </tr>\n",
       "    <tr>\n",
       "      <th>2</th>\n",
       "      <td>0.03</td>\n",
       "      <td>0.06</td>\n",
       "      <td>0.09</td>\n",
       "      <td>0.12</td>\n",
       "      <td>0.15</td>\n",
       "      <td>0.18</td>\n",
       "      <td>0.21</td>\n",
       "      <td>0.24</td>\n",
       "      <td>112.0</td>\n",
       "    </tr>\n",
       "    <tr>\n",
       "      <th>3</th>\n",
       "      <td>0.01</td>\n",
       "      <td>0.02</td>\n",
       "      <td>0.03</td>\n",
       "      <td>0.04</td>\n",
       "      <td>0.05</td>\n",
       "      <td>0.06</td>\n",
       "      <td>0.07</td>\n",
       "      <td>0.08</td>\n",
       "      <td>91.0</td>\n",
       "    </tr>\n",
       "    <tr>\n",
       "      <th>4</th>\n",
       "      <td>0.06</td>\n",
       "      <td>0.12</td>\n",
       "      <td>0.18</td>\n",
       "      <td>0.24</td>\n",
       "      <td>0.30</td>\n",
       "      <td>0.36</td>\n",
       "      <td>0.42</td>\n",
       "      <td>0.48</td>\n",
       "      <td>80.0</td>\n",
       "    </tr>\n",
       "    <tr>\n",
       "      <th>5</th>\n",
       "      <td>0.01</td>\n",
       "      <td>0.02</td>\n",
       "      <td>0.03</td>\n",
       "      <td>0.04</td>\n",
       "      <td>0.05</td>\n",
       "      <td>0.06</td>\n",
       "      <td>0.07</td>\n",
       "      <td>0.08</td>\n",
       "      <td>87.0</td>\n",
       "    </tr>\n",
       "    <tr>\n",
       "      <th>6</th>\n",
       "      <td>0.04</td>\n",
       "      <td>0.08</td>\n",
       "      <td>0.12</td>\n",
       "      <td>0.16</td>\n",
       "      <td>0.20</td>\n",
       "      <td>0.24</td>\n",
       "      <td>0.28</td>\n",
       "      <td>0.32</td>\n",
       "      <td>35.0</td>\n",
       "    </tr>\n",
       "    <tr>\n",
       "      <th>7</th>\n",
       "      <td>0.06</td>\n",
       "      <td>0.12</td>\n",
       "      <td>0.18</td>\n",
       "      <td>0.24</td>\n",
       "      <td>0.30</td>\n",
       "      <td>0.36</td>\n",
       "      <td>0.42</td>\n",
       "      <td>0.48</td>\n",
       "      <td>40.0</td>\n",
       "    </tr>\n",
       "    <tr>\n",
       "      <th>8</th>\n",
       "      <td>0.04</td>\n",
       "      <td>0.08</td>\n",
       "      <td>0.12</td>\n",
       "      <td>0.16</td>\n",
       "      <td>0.20</td>\n",
       "      <td>0.24</td>\n",
       "      <td>0.28</td>\n",
       "      <td>0.32</td>\n",
       "      <td>46.0</td>\n",
       "    </tr>\n",
       "    <tr>\n",
       "      <th>9</th>\n",
       "      <td>0.01</td>\n",
       "      <td>0.02</td>\n",
       "      <td>0.03</td>\n",
       "      <td>0.04</td>\n",
       "      <td>0.05</td>\n",
       "      <td>0.06</td>\n",
       "      <td>0.07</td>\n",
       "      <td>0.08</td>\n",
       "      <td>80.0</td>\n",
       "    </tr>\n",
       "  </tbody>\n",
       "</table>\n",
       "</div>"
      ],
      "text/plain": [
       "   prob_coupon_4  prob_coupon_5  prob_coupon_6  prob_coupon_7  prob_coupon_8  \\\n",
       "0           0.06           0.12           0.18           0.24           0.30   \n",
       "1           0.06           0.12           0.18           0.24           0.30   \n",
       "2           0.03           0.06           0.09           0.12           0.15   \n",
       "3           0.01           0.02           0.03           0.04           0.05   \n",
       "4           0.06           0.12           0.18           0.24           0.30   \n",
       "5           0.01           0.02           0.03           0.04           0.05   \n",
       "6           0.04           0.08           0.12           0.16           0.20   \n",
       "7           0.06           0.12           0.18           0.24           0.30   \n",
       "8           0.04           0.08           0.12           0.16           0.20   \n",
       "9           0.01           0.02           0.03           0.04           0.05   \n",
       "\n",
       "   prob_coupon_9  prob_coupon_10  prob_coupon_11   cltv  \n",
       "0           0.36            0.42            0.48   98.0  \n",
       "1           0.36            0.42            0.48   82.0  \n",
       "2           0.18            0.21            0.24  112.0  \n",
       "3           0.06            0.07            0.08   91.0  \n",
       "4           0.36            0.42            0.48   80.0  \n",
       "5           0.06            0.07            0.08   87.0  \n",
       "6           0.24            0.28            0.32   35.0  \n",
       "7           0.36            0.42            0.48   40.0  \n",
       "8           0.24            0.28            0.32   46.0  \n",
       "9           0.06            0.07            0.08   80.0  "
      ]
     },
     "execution_count": 24,
     "metadata": {},
     "output_type": "execute_result"
    }
   ],
   "source": [
    "df = pd.read_csv('../data/synthetic_users.csv.gz', sep=';')\n",
    "df"
   ]
  },
  {
   "cell_type": "markdown",
   "metadata": {},
   "source": [
    "## BAU approach\n",
    "\n",
    "One possible estrategy to assign coupons without optimization (BAU approach) is to give a coupon with a value of 10% of the cltv of the user."
   ]
  },
  {
   "cell_type": "code",
   "execution_count": 46,
   "metadata": {
    "ExecuteTime": {
     "end_time": "2022-02-09T22:32:37.699193Z",
     "start_time": "2022-02-09T22:32:37.669699Z"
    }
   },
   "outputs": [
    {
     "data": {
      "text/html": [
       "<div>\n",
       "<style scoped>\n",
       "    .dataframe tbody tr th:only-of-type {\n",
       "        vertical-align: middle;\n",
       "    }\n",
       "\n",
       "    .dataframe tbody tr th {\n",
       "        vertical-align: top;\n",
       "    }\n",
       "\n",
       "    .dataframe thead th {\n",
       "        text-align: right;\n",
       "    }\n",
       "</style>\n",
       "<table border=\"1\" class=\"dataframe\">\n",
       "  <thead>\n",
       "    <tr style=\"text-align: right;\">\n",
       "      <th></th>\n",
       "      <th>coupon_4</th>\n",
       "      <th>coupon_5</th>\n",
       "      <th>coupon_6</th>\n",
       "      <th>coupon_7</th>\n",
       "      <th>coupon_8</th>\n",
       "      <th>coupon_9</th>\n",
       "      <th>coupon_10</th>\n",
       "      <th>coupon_11</th>\n",
       "    </tr>\n",
       "  </thead>\n",
       "  <tbody>\n",
       "    <tr>\n",
       "      <th>0</th>\n",
       "      <td>0</td>\n",
       "      <td>0</td>\n",
       "      <td>0</td>\n",
       "      <td>0</td>\n",
       "      <td>0</td>\n",
       "      <td>0</td>\n",
       "      <td>1</td>\n",
       "      <td>0</td>\n",
       "    </tr>\n",
       "    <tr>\n",
       "      <th>1</th>\n",
       "      <td>0</td>\n",
       "      <td>0</td>\n",
       "      <td>0</td>\n",
       "      <td>0</td>\n",
       "      <td>1</td>\n",
       "      <td>0</td>\n",
       "      <td>0</td>\n",
       "      <td>0</td>\n",
       "    </tr>\n",
       "    <tr>\n",
       "      <th>2</th>\n",
       "      <td>0</td>\n",
       "      <td>0</td>\n",
       "      <td>0</td>\n",
       "      <td>0</td>\n",
       "      <td>0</td>\n",
       "      <td>0</td>\n",
       "      <td>0</td>\n",
       "      <td>1</td>\n",
       "    </tr>\n",
       "    <tr>\n",
       "      <th>3</th>\n",
       "      <td>0</td>\n",
       "      <td>0</td>\n",
       "      <td>0</td>\n",
       "      <td>0</td>\n",
       "      <td>0</td>\n",
       "      <td>1</td>\n",
       "      <td>0</td>\n",
       "      <td>0</td>\n",
       "    </tr>\n",
       "    <tr>\n",
       "      <th>4</th>\n",
       "      <td>0</td>\n",
       "      <td>0</td>\n",
       "      <td>0</td>\n",
       "      <td>0</td>\n",
       "      <td>1</td>\n",
       "      <td>0</td>\n",
       "      <td>0</td>\n",
       "      <td>0</td>\n",
       "    </tr>\n",
       "    <tr>\n",
       "      <th>5</th>\n",
       "      <td>0</td>\n",
       "      <td>0</td>\n",
       "      <td>0</td>\n",
       "      <td>0</td>\n",
       "      <td>0</td>\n",
       "      <td>1</td>\n",
       "      <td>0</td>\n",
       "      <td>0</td>\n",
       "    </tr>\n",
       "    <tr>\n",
       "      <th>6</th>\n",
       "      <td>1</td>\n",
       "      <td>0</td>\n",
       "      <td>0</td>\n",
       "      <td>0</td>\n",
       "      <td>0</td>\n",
       "      <td>0</td>\n",
       "      <td>0</td>\n",
       "      <td>0</td>\n",
       "    </tr>\n",
       "    <tr>\n",
       "      <th>7</th>\n",
       "      <td>1</td>\n",
       "      <td>0</td>\n",
       "      <td>0</td>\n",
       "      <td>0</td>\n",
       "      <td>0</td>\n",
       "      <td>0</td>\n",
       "      <td>0</td>\n",
       "      <td>0</td>\n",
       "    </tr>\n",
       "    <tr>\n",
       "      <th>8</th>\n",
       "      <td>0</td>\n",
       "      <td>1</td>\n",
       "      <td>0</td>\n",
       "      <td>0</td>\n",
       "      <td>0</td>\n",
       "      <td>0</td>\n",
       "      <td>0</td>\n",
       "      <td>0</td>\n",
       "    </tr>\n",
       "    <tr>\n",
       "      <th>9</th>\n",
       "      <td>0</td>\n",
       "      <td>0</td>\n",
       "      <td>0</td>\n",
       "      <td>0</td>\n",
       "      <td>1</td>\n",
       "      <td>0</td>\n",
       "      <td>0</td>\n",
       "      <td>0</td>\n",
       "    </tr>\n",
       "  </tbody>\n",
       "</table>\n",
       "</div>"
      ],
      "text/plain": [
       "  coupon_4 coupon_5 coupon_6 coupon_7 coupon_8 coupon_9 coupon_10 coupon_11\n",
       "0        0        0        0        0        0        0         1         0\n",
       "1        0        0        0        0        1        0         0         0\n",
       "2        0        0        0        0        0        0         0         1\n",
       "3        0        0        0        0        0        1         0         0\n",
       "4        0        0        0        0        1        0         0         0\n",
       "5        0        0        0        0        0        1         0         0\n",
       "6        1        0        0        0        0        0         0         0\n",
       "7        1        0        0        0        0        0         0         0\n",
       "8        0        1        0        0        0        0         0         0\n",
       "9        0        0        0        0        1        0         0         0"
      ]
     },
     "execution_count": 46,
     "metadata": {},
     "output_type": "execute_result"
    }
   ],
   "source": [
    "coupons = [int(col.split('_')[-1]) for col in df.columns if 'cltv' not in col]\n",
    "\n",
    "cols_prob_coupon = ['coupon_{}'.format(i) for i in coupons]\n",
    "coupons_bau = np.array(round(df['cltv']*0.1)).astype(int)\n",
    "coupon_bau = pd.DataFrame(columns = cols_prob_coupon)\n",
    "for i in list(df.index):\n",
    "    coupon_bau.loc[i, cols_prob_coupon] = [1 if coupons_bau[i] == j else 0 for j in coupons]\n",
    "    \n",
    "coupon_bau"
   ]
  },
  {
   "cell_type": "code",
   "execution_count": 58,
   "metadata": {
    "ExecuteTime": {
     "end_time": "2022-02-09T22:45:40.396986Z",
     "start_time": "2022-02-09T22:45:40.375036Z"
    }
   },
   "outputs": [
    {
     "data": {
      "text/html": [
       "<div>\n",
       "<style scoped>\n",
       "    .dataframe tbody tr th:only-of-type {\n",
       "        vertical-align: middle;\n",
       "    }\n",
       "\n",
       "    .dataframe tbody tr th {\n",
       "        vertical-align: top;\n",
       "    }\n",
       "\n",
       "    .dataframe thead th {\n",
       "        text-align: right;\n",
       "    }\n",
       "</style>\n",
       "<table border=\"1\" class=\"dataframe\">\n",
       "  <thead>\n",
       "    <tr style=\"text-align: right;\">\n",
       "      <th></th>\n",
       "      <th>cltv</th>\n",
       "      <th>coupon_bau</th>\n",
       "      <th>prob_coupon_bau</th>\n",
       "      <th>roi</th>\n",
       "    </tr>\n",
       "  </thead>\n",
       "  <tbody>\n",
       "    <tr>\n",
       "      <th>0</th>\n",
       "      <td>98.0</td>\n",
       "      <td>10</td>\n",
       "      <td>0.42</td>\n",
       "      <td>36.96</td>\n",
       "    </tr>\n",
       "    <tr>\n",
       "      <th>1</th>\n",
       "      <td>82.0</td>\n",
       "      <td>8</td>\n",
       "      <td>0.30</td>\n",
       "      <td>22.20</td>\n",
       "    </tr>\n",
       "    <tr>\n",
       "      <th>2</th>\n",
       "      <td>112.0</td>\n",
       "      <td>11</td>\n",
       "      <td>0.24</td>\n",
       "      <td>24.24</td>\n",
       "    </tr>\n",
       "    <tr>\n",
       "      <th>3</th>\n",
       "      <td>91.0</td>\n",
       "      <td>9</td>\n",
       "      <td>0.06</td>\n",
       "      <td>4.92</td>\n",
       "    </tr>\n",
       "    <tr>\n",
       "      <th>4</th>\n",
       "      <td>80.0</td>\n",
       "      <td>8</td>\n",
       "      <td>0.30</td>\n",
       "      <td>21.60</td>\n",
       "    </tr>\n",
       "    <tr>\n",
       "      <th>5</th>\n",
       "      <td>87.0</td>\n",
       "      <td>9</td>\n",
       "      <td>0.06</td>\n",
       "      <td>4.68</td>\n",
       "    </tr>\n",
       "    <tr>\n",
       "      <th>6</th>\n",
       "      <td>35.0</td>\n",
       "      <td>4</td>\n",
       "      <td>0.04</td>\n",
       "      <td>1.24</td>\n",
       "    </tr>\n",
       "    <tr>\n",
       "      <th>7</th>\n",
       "      <td>40.0</td>\n",
       "      <td>4</td>\n",
       "      <td>0.06</td>\n",
       "      <td>2.16</td>\n",
       "    </tr>\n",
       "    <tr>\n",
       "      <th>8</th>\n",
       "      <td>46.0</td>\n",
       "      <td>5</td>\n",
       "      <td>0.08</td>\n",
       "      <td>3.28</td>\n",
       "    </tr>\n",
       "    <tr>\n",
       "      <th>9</th>\n",
       "      <td>80.0</td>\n",
       "      <td>8</td>\n",
       "      <td>0.05</td>\n",
       "      <td>3.60</td>\n",
       "    </tr>\n",
       "  </tbody>\n",
       "</table>\n",
       "</div>"
      ],
      "text/plain": [
       "    cltv  coupon_bau  prob_coupon_bau    roi\n",
       "0   98.0          10             0.42  36.96\n",
       "1   82.0           8             0.30  22.20\n",
       "2  112.0          11             0.24  24.24\n",
       "3   91.0           9             0.06   4.92\n",
       "4   80.0           8             0.30  21.60\n",
       "5   87.0           9             0.06   4.68\n",
       "6   35.0           4             0.04   1.24\n",
       "7   40.0           4             0.06   2.16\n",
       "8   46.0           5             0.08   3.28\n",
       "9   80.0           8             0.05   3.60"
      ]
     },
     "execution_count": 58,
     "metadata": {},
     "output_type": "execute_result"
    }
   ],
   "source": [
    "df['coupon_bau'] = coupons_bau\n",
    "df['prob_coupon_bau'] = df.apply(lambda x: x['prob_coupon_{}'.format(int(x['coupon_bau']))], axis=1)\n",
    "df['roi'] = df['prob_coupon_bau']*(df['cltv'] - df['coupon_bau'])\n",
    "df[['cltv','coupon_bau','prob_coupon_bau','roi']]"
   ]
  },
  {
   "cell_type": "code",
   "execution_count": 60,
   "metadata": {
    "ExecuteTime": {
     "end_time": "2022-02-09T22:47:52.106344Z",
     "start_time": "2022-02-09T22:47:52.098053Z"
    }
   },
   "outputs": [
    {
     "name": "stdout",
     "output_type": "stream",
     "text": [
      "Expected ROI for BAU: 124.88\n"
     ]
    }
   ],
   "source": [
    "## Revenue expected for BAU of coupon based on 10% of the CLTV\n",
    "ROI_BAU = df['roi'].sum()\n",
    "print('Expected ROI for BAU: {}'.format(ROI_BAU))"
   ]
  },
  {
   "cell_type": "markdown",
   "metadata": {},
   "source": [
    "## Optimization approach"
   ]
  },
  {
   "cell_type": "markdown",
   "metadata": {},
   "source": [
    "The goal of the optimizer is to produce a matrix (users in the rows and coupons in the columns) with only one '1' per row (user) indicating the column (coupon) given. "
   ]
  },
  {
   "cell_type": "code",
   "execution_count": 3,
   "metadata": {
    "ExecuteTime": {
     "end_time": "2021-10-21T09:56:19.202195Z",
     "start_time": "2021-10-21T09:56:19.186064Z"
    }
   },
   "outputs": [
    {
     "data": {
      "text/html": [
       "<div>\n",
       "<style scoped>\n",
       "    .dataframe tbody tr th:only-of-type {\n",
       "        vertical-align: middle;\n",
       "    }\n",
       "\n",
       "    .dataframe tbody tr th {\n",
       "        vertical-align: top;\n",
       "    }\n",
       "\n",
       "    .dataframe thead th {\n",
       "        text-align: right;\n",
       "    }\n",
       "</style>\n",
       "<table border=\"1\" class=\"dataframe\">\n",
       "  <thead>\n",
       "    <tr style=\"text-align: right;\">\n",
       "      <th></th>\n",
       "      <th>prob_2</th>\n",
       "      <th>prob_3</th>\n",
       "      <th>prob_4</th>\n",
       "      <th>prob_5</th>\n",
       "      <th>prob_6</th>\n",
       "      <th>prob_7</th>\n",
       "      <th>prob_8</th>\n",
       "      <th>prob_9</th>\n",
       "      <th>prob_10</th>\n",
       "      <th>6m_REVENEU</th>\n",
       "    </tr>\n",
       "  </thead>\n",
       "  <tbody>\n",
       "    <tr>\n",
       "      <th>1</th>\n",
       "      <td>0.16</td>\n",
       "      <td>0.24</td>\n",
       "      <td>0.32</td>\n",
       "      <td>0.4</td>\n",
       "      <td>0.48</td>\n",
       "      <td>0.56</td>\n",
       "      <td>0.64</td>\n",
       "      <td>0.72</td>\n",
       "      <td>0.8</td>\n",
       "      <td>50</td>\n",
       "    </tr>\n",
       "    <tr>\n",
       "      <th>2</th>\n",
       "      <td>0.04</td>\n",
       "      <td>0.06</td>\n",
       "      <td>0.08</td>\n",
       "      <td>0.1</td>\n",
       "      <td>0.12</td>\n",
       "      <td>0.14</td>\n",
       "      <td>0.16</td>\n",
       "      <td>0.18</td>\n",
       "      <td>0.2</td>\n",
       "      <td>70</td>\n",
       "    </tr>\n",
       "    <tr>\n",
       "      <th>3</th>\n",
       "      <td>0.06</td>\n",
       "      <td>0.09</td>\n",
       "      <td>0.12</td>\n",
       "      <td>0.15</td>\n",
       "      <td>0.18</td>\n",
       "      <td>0.21</td>\n",
       "      <td>0.24</td>\n",
       "      <td>0.27</td>\n",
       "      <td>0.3</td>\n",
       "      <td>100</td>\n",
       "    </tr>\n",
       "  </tbody>\n",
       "</table>\n",
       "</div>"
      ],
      "text/plain": [
       "  prob_2 prob_3 prob_4 prob_5 prob_6 prob_7 prob_8 prob_9 prob_10 6m_REVENEU\n",
       "1   0.16   0.24   0.32    0.4   0.48   0.56   0.64   0.72     0.8         50\n",
       "2   0.04   0.06   0.08    0.1   0.12   0.14   0.16   0.18     0.2         70\n",
       "3   0.06   0.09   0.12   0.15   0.18   0.21   0.24   0.27     0.3        100"
      ]
     },
     "execution_count": 3,
     "metadata": {},
     "output_type": "execute_result"
    }
   ],
   "source": [
    "col_prob = ['prob_{}'.format(i) for i in range(2,11,1)] ## define the prob_ columns to the range of the coupons desired, in this \n",
    "# scenario the range is from 2 to 10\n",
    "factor3 = 0.03 #define the prob multiplicative factors that will show how the probabilities will change for each user given that will increment their coupon based on the range\n",
    "factor2 = 0.02 #define the prob multiplicative factors that will show how the probabilities will change for each user given that will increment their coupon based on the range\n",
    "factor1 = 0.08 #define the prob multiplicative factors that will show how the probabilities will change for each user given that will increment their coupon based on the range\n",
    "ltv1 = 50 #define \"fake\"LTV for client 1 \n",
    "ltv2 = 70 #define \"fake\"LTV for client 2\n",
    "ltv3 = 100 #define \"fake\"LTV for client 3\n",
    "col_prob_1 = [i*factor1 for i in range(2,11,1)] #define how the probability will change with higher coupons \n",
    "col_prob_2 = [i*factor2 for i in range(2,11,1)] #define how the probability will change with higher coupons\n",
    "col_prob_3 = [i*factor3 for i in range(2,11,1)] #define how the probability will change with higher coupons\n",
    "col_prob_1.append(ltv1)\n",
    "col_prob_2.append(ltv2)\n",
    "col_prob_3.append(ltv3)\n",
    "\n",
    "## Creating the dataframe\n",
    "prob = pd.DataFrame(columns= col_prob+['6m_REVENEU'])\n",
    "prob.loc[1,col_prob+['6m_REVENEU']] = np.array(col_prob_1)\n",
    "prob.loc[2,col_prob+['6m_REVENEU']] = np.array(col_prob_2)\n",
    "prob.loc[3,col_prob+['6m_REVENEU']] =  np.array(col_prob_3)\n",
    "\n",
    "prob.head()"
   ]
  },
  {
   "cell_type": "code",
   "execution_count": 4,
   "metadata": {
    "ExecuteTime": {
     "end_time": "2021-10-21T09:56:19.679307Z",
     "start_time": "2021-10-21T09:56:19.675067Z"
    }
   },
   "outputs": [
    {
     "data": {
      "text/plain": [
       "53.82"
      ]
     },
     "execution_count": 4,
     "metadata": {},
     "output_type": "execute_result"
    }
   ],
   "source": [
    "## Revenue expected for \"Business rules\" of coupon based on 10% of the LTV\n",
    "rev_bau = prob.loc[1,'prob_{}'.format(int(ltv1/10))]*(ltv1*0.9)+prob.loc[2,'prob_{}'.format(int(ltv2/10))]*(ltv2*0.9)+prob.loc[3,'prob_{}'.format(int(ltv3/10))]*(ltv3*0.9)\n",
    "rev_bau"
   ]
  },
  {
   "cell_type": "markdown",
   "metadata": {},
   "source": [
    "## Defining the Optimization Problem"
   ]
  },
  {
   "cell_type": "code",
   "execution_count": 5,
   "metadata": {
    "ExecuteTime": {
     "end_time": "2021-10-21T09:56:21.672863Z",
     "start_time": "2021-10-21T09:56:21.659666Z"
    }
   },
   "outputs": [
    {
     "data": {
      "text/plain": [
       "range(2, 11)"
      ]
     },
     "metadata": {},
     "output_type": "display_data"
    },
    {
     "data": {
      "text/plain": [
       "{1: range(2, 11), 2: range(2, 11), 3: range(2, 11)}"
      ]
     },
     "metadata": {},
     "output_type": "display_data"
    }
   ],
   "source": [
    "set_I = [1,2,3] ## total users\n",
    "coupon_range = range(2,11,1) # coupon range\n",
    "display(coupon_range)\n",
    "coupons_per_contract = {i: coupon_range for i in set_I} ## dictionary of coupons avaliable to each user\n",
    "display(coupons_per_contract)"
   ]
  },
  {
   "cell_type": "code",
   "execution_count": 6,
   "metadata": {
    "ExecuteTime": {
     "end_time": "2021-10-21T09:56:22.095809Z",
     "start_time": "2021-10-21T09:56:22.077466Z"
    }
   },
   "outputs": [
    {
     "name": "stdout",
     "output_type": "stream",
     "text": [
      "\tCreate matrices max(cx) st Ax=>b and Ax<=b ; sum(x_j) = 1\n",
      "\n"
     ]
    }
   ],
   "source": [
    "# Problema definition\n",
    "#A is the matrix of the coupons, \n",
    "#X is the matrix that selects only one coupon per user (basically we ensure that each row of this matrix sum to 1 and that is a binary variable)\n",
    "#b is our budget constrain \n",
    "#c is our probability matrix\n",
    "#d is our ltv-cost matrix\n",
    "print('\\tCreate matrices max(cx) st Ax=>b and Ax<=b ; sum(x_j) = 1\\n')\n",
    "\n",
    "x_vars = dict()\n",
    "a = dict()\n",
    "c = dict()\n",
    "d = dict()\n",
    "\n",
    "for k, i in enumerate(set_I):\n",
    "    for j in coupons_per_contract[i]:\n",
    "       \n",
    "\n",
    "        x_vars[(i, j)] = plp.LpVariable(cat=plp.LpInteger, lowBound=0,\n",
    "                                        upBound=1, name=\"x_{0}_{1}\".format(i, j)) ## integer matrix where the rows sum to one, selecting only one coupon per user\n",
    "\n",
    "        a[(i, j)] = j # coupon matrix\n",
    "\n",
    "        c[(i, j)] = prob.loc[i]['prob_{}'.format(j)]  # probability matrix\n",
    "\n",
    "        d[(i,j)] = prob.loc[i]['6m_REVENEU'] - j  #ltv - cost matrix"
   ]
  },
  {
   "cell_type": "markdown",
   "metadata": {},
   "source": [
    "### Constraints definition"
   ]
  },
  {
   "cell_type": "code",
   "execution_count": 7,
   "metadata": {
    "ExecuteTime": {
     "end_time": "2021-10-21T09:56:24.171366Z",
     "start_time": "2021-10-21T09:56:24.147479Z"
    }
   },
   "outputs": [
    {
     "name": "stdout",
     "output_type": "stream",
     "text": [
      "\t Restriction 2 : 22.0 ...\n",
      "\n"
     ]
    },
    {
     "name": "stderr",
     "output_type": "stream",
     "text": [
      "/home/wilomaku/anaconda3/lib/python3.8/site-packages/pulp/pulp.py:1198: UserWarning: Spaces are not permitted in the name. Converted to '_'\n",
      "  warnings.warn(\"Spaces are not permitted in the name. Converted to '_'\")\n"
     ]
    },
    {
     "data": {
      "text/plain": [
       "{1: 1*x_1_10 + 1*x_1_2 + 1*x_1_3 + 1*x_1_4 + 1*x_1_5 + 1*x_1_6 + 1*x_1_7 + 1*x_1_8 + 1*x_1_9 + -1 = 0,\n",
       " 2: 1*x_2_10 + 1*x_2_2 + 1*x_2_3 + 1*x_2_4 + 1*x_2_5 + 1*x_2_6 + 1*x_2_7 + 1*x_2_8 + 1*x_2_9 + -1 = 0,\n",
       " 3: 1*x_3_10 + 1*x_3_2 + 1*x_3_3 + 1*x_3_4 + 1*x_3_5 + 1*x_3_6 + 1*x_3_7 + 1*x_3_8 + 1*x_3_9 + -1 = 0,\n",
       " -1: 10*x_1_10 + 2*x_1_2 + 3*x_1_3 + 4*x_1_4 + 5*x_1_5 + 6*x_1_6 + 7*x_1_7 + 8*x_1_8 + 9*x_1_9 + 10*x_2_10 + 2*x_2_2 + 3*x_2_3 + 4*x_2_4 + 5*x_2_5 + 6*x_2_6 + 7*x_2_7 + 8*x_2_8 + 9*x_2_9 + 10*x_3_10 + 2*x_3_2 + 3*x_3_3 + 4*x_3_4 + 5*x_3_5 + 6*x_3_6 + 7*x_3_7 + 8*x_3_8 + 9*x_3_9 + -22.0 <= 0}"
      ]
     },
     "execution_count": 7,
     "metadata": {},
     "output_type": "execute_result"
    }
   ],
   "source": [
    "opt_model = plp.LpProblem(name=\"MIP Model - LTV - COST maximization \\n\") ## name of the model\n",
    "\n",
    "constraints = {i:\n",
    "               plp.LpConstraint(\n",
    "                   e=plp.lpSum(x_vars[i, j]\n",
    "                               for j in coupons_per_contract[i]), \n",
    "                   sense=plp.LpConstraintEQ,\n",
    "                   rhs=1*(len(coupons_per_contract[i]) > 0), ## making sure that only one coupon to each client if the client is elegible to a coupon\n",
    "                   name=\"constraint_{0}\".format(i))\n",
    "               for i in set_I}\n",
    "\n",
    "b = (ltv1+ltv2+ltv3)/10 ## total budget is the same as for the business rules (10% of the LTV)\n",
    "\n",
    "print('\\t Restriction 2 : {} ...\\n'.format(b))\n",
    "\n",
    "constraints[-1] = plp.LpConstraint(\n",
    "    e=plp.lpSum(a[i, j] * x_vars[i, j] for i in set_I for j in coupons_per_contract[i]), \n",
    "    sense=plp.LpConstraintLE,\n",
    "    rhs=b,\n",
    "    name=\"constraint_-2\") ## making sure that the coupons don't exceed the budget\n",
    "constraints ## all contrains"
   ]
  },
  {
   "cell_type": "markdown",
   "metadata": {},
   "source": [
    "### Objective definition"
   ]
  },
  {
   "cell_type": "code",
   "execution_count": 8,
   "metadata": {
    "ExecuteTime": {
     "end_time": "2021-10-21T09:56:26.284205Z",
     "start_time": "2021-10-21T09:56:26.265755Z"
    }
   },
   "outputs": [],
   "source": [
    "df = pd.DataFrame(columns=['coupon_optimal','p_coupon_optimal'])\n",
    "objective = plp.lpSum(x_vars[i, j] * c[i, j] * d[i,j]\n",
    "                      for i in set_I for j in coupons_per_contract[i])\n",
    "# our model objective maximazing expected LTV - cost \n",
    "# matrix d (LTV - cost)* matrix c (prob_matrix) * matrix x (matrix of selecting only on coupon per client)\n",
    "\n",
    "for k in constraints.keys():\n",
    "    opt_model.addConstraint(constraints[k])\n",
    "\n",
    "opt_model.sense = plp.LpMaximize\n",
    "opt_model.setObjective(objective)"
   ]
  },
  {
   "cell_type": "markdown",
   "metadata": {},
   "source": [
    "### Solving"
   ]
  },
  {
   "cell_type": "code",
   "execution_count": 9,
   "metadata": {
    "ExecuteTime": {
     "end_time": "2021-10-21T09:56:28.306705Z",
     "start_time": "2021-10-21T09:56:28.281869Z"
    }
   },
   "outputs": [
    {
     "name": "stdout",
     "output_type": "stream",
     "text": [
      "\tProblem Optimal!\n",
      "\n",
      "\tPrepare coupon data\n",
      "\n"
     ]
    },
    {
     "name": "stderr",
     "output_type": "stream",
     "text": [
      "<ipython-input-9-4fb78e5d2fd1>:8: DeprecationWarning: The default dtype for empty Series will be 'object' instead of 'float64' in a future version. Specify a dtype explicitly to silence this warning.\n",
      "  sel_coupon = pd.Series([])\n"
     ]
    }
   ],
   "source": [
    "#opt_model.solve(plp.solvers.COIN(fracGap=TOLERANCIA, msg=0))\n",
    "#opt_model.solve(plp.solvers.PULP_CBC_CMD(fracGap=TOLERANCIA, msg=0))\n",
    "opt_model.solve() ## solve the model\n",
    "\n",
    "print('\\tProblem {}!\\n'.format(plp.constants.LpStatus[opt_model.status])) ## status\n",
    "\n",
    "print('\\tPrepare coupon data\\n')\n",
    "sel_coupon = pd.Series([])\n",
    "for var in opt_model.variables():\n",
    "\n",
    "    if var.varValue == 1:\n",
    "        i, j = int(var.name.split('_')[1]), int(var.name.split('_')[2]) ##saving the optimal results\n",
    "       \n",
    "\n",
    "        sel_coupon[i] = {'AMOUNT_RC': j,\n",
    "                                  'p': prob.loc[i]['prob_{}'.format(j)],\n",
    "                                 }"
   ]
  },
  {
   "cell_type": "code",
   "execution_count": 10,
   "metadata": {
    "ExecuteTime": {
     "end_time": "2021-10-21T09:56:29.986942Z",
     "start_time": "2021-10-21T09:56:29.972891Z"
    }
   },
   "outputs": [
    {
     "data": {
      "text/plain": [
       "1    {'AMOUNT_RC': 10, 'p': 0.8}\n",
       "2    {'AMOUNT_RC': 2, 'p': 0.04}\n",
       "3    {'AMOUNT_RC': 10, 'p': 0.3}\n",
       "dtype: object"
      ]
     },
     "execution_count": 10,
     "metadata": {},
     "output_type": "execute_result"
    }
   ],
   "source": [
    "sel_coupon"
   ]
  },
  {
   "cell_type": "code",
   "execution_count": 11,
   "metadata": {
    "ExecuteTime": {
     "end_time": "2021-10-21T09:56:30.715208Z",
     "start_time": "2021-10-21T09:56:30.706780Z"
    }
   },
   "outputs": [
    {
     "data": {
      "text/plain": [
       "61.72"
      ]
     },
     "execution_count": 11,
     "metadata": {},
     "output_type": "execute_result"
    }
   ],
   "source": [
    "rev_model = opt_model.objective.value() ## evaluating optimail solution\n",
    "rev_model"
   ]
  },
  {
   "cell_type": "code",
   "execution_count": 12,
   "metadata": {
    "ExecuteTime": {
     "end_time": "2021-10-21T09:56:31.128301Z",
     "start_time": "2021-10-21T09:56:31.125471Z"
    }
   },
   "outputs": [
    {
     "data": {
      "text/plain": [
       "True"
      ]
     },
     "execution_count": 12,
     "metadata": {},
     "output_type": "execute_result"
    }
   ],
   "source": [
    "rev_model > rev_bau\n",
    "#Optimal solution is better than the business rules!!!"
   ]
  },
  {
   "cell_type": "markdown",
   "metadata": {},
   "source": [
    "## Testing another solver"
   ]
  },
  {
   "cell_type": "code",
   "execution_count": 13,
   "metadata": {
    "ExecuteTime": {
     "end_time": "2021-10-21T09:56:33.696086Z",
     "start_time": "2021-10-21T09:56:33.674939Z"
    }
   },
   "outputs": [
    {
     "name": "stdout",
     "output_type": "stream",
     "text": [
      "\t Restriction 2 : 22.0 ...\n",
      "\n"
     ]
    },
    {
     "data": {
      "text/plain": [
       "{1: 1*x_1_10 + 1*x_1_2 + 1*x_1_3 + 1*x_1_4 + 1*x_1_5 + 1*x_1_6 + 1*x_1_7 + 1*x_1_8 + 1*x_1_9 + -1 = 0,\n",
       " 2: 1*x_2_10 + 1*x_2_2 + 1*x_2_3 + 1*x_2_4 + 1*x_2_5 + 1*x_2_6 + 1*x_2_7 + 1*x_2_8 + 1*x_2_9 + -1 = 0,\n",
       " 3: 1*x_3_10 + 1*x_3_2 + 1*x_3_3 + 1*x_3_4 + 1*x_3_5 + 1*x_3_6 + 1*x_3_7 + 1*x_3_8 + 1*x_3_9 + -1 = 0,\n",
       " -1: 10*x_1_10 + 2*x_1_2 + 3*x_1_3 + 4*x_1_4 + 5*x_1_5 + 6*x_1_6 + 7*x_1_7 + 8*x_1_8 + 9*x_1_9 + 10*x_2_10 + 2*x_2_2 + 3*x_2_3 + 4*x_2_4 + 5*x_2_5 + 6*x_2_6 + 7*x_2_7 + 8*x_2_8 + 9*x_2_9 + 10*x_3_10 + 2*x_3_2 + 3*x_3_3 + 4*x_3_4 + 5*x_3_5 + 6*x_3_6 + 7*x_3_7 + 8*x_3_8 + 9*x_3_9 + -22.0 <= 0}"
      ]
     },
     "execution_count": 13,
     "metadata": {},
     "output_type": "execute_result"
    }
   ],
   "source": [
    "#opt_model = plp.getSolver('CPLEX_CMD')\n",
    "opt_model = plp.LpProblem(name=\"MIP Model - LTV - COST maximization \\n\") ## name of the model\n",
    "\n",
    "constraints = {i:\n",
    "               plp.LpConstraint(\n",
    "                   e=plp.lpSum(x_vars[i, j]\n",
    "                               for j in coupons_per_contract[i]), \n",
    "                   sense=plp.LpConstraintEQ,\n",
    "                   rhs=1*(len(coupons_per_contract[i]) > 0), ## making sure that only one coupon to each client if the client is elegible to a coupon\n",
    "                   name=\"constraint_{0}\".format(i))\n",
    "               for i in set_I}\n",
    "\n",
    "b = (ltv1+ltv2+ltv3)/10 ## total budget is the same as for the business rules (10% of the LTV)\n",
    "print('\\t Restriction 2 : {} ...\\n'.format(b))\n",
    "constraints[-1] = plp.LpConstraint(\n",
    "    e=plp.lpSum(a[i, j] * x_vars[i, j] for i in set_I for j in coupons_per_contract[i]), \n",
    "    sense=plp.LpConstraintLE,\n",
    "    rhs=b,\n",
    "    name=\"constraint_-2\") ## making sure that the coupons don't exceed the budget\n",
    "constraints ## all contrains"
   ]
  },
  {
   "cell_type": "code",
   "execution_count": 14,
   "metadata": {
    "ExecuteTime": {
     "end_time": "2021-10-21T09:56:35.543918Z",
     "start_time": "2021-10-21T09:56:35.522294Z"
    }
   },
   "outputs": [
    {
     "name": "stdout",
     "output_type": "stream",
     "text": [
      "\tProblem Optimal!\n",
      "\n",
      "\tPrepare coupon data\n",
      "\n"
     ]
    },
    {
     "name": "stderr",
     "output_type": "stream",
     "text": [
      "/home/wilomaku/anaconda3/lib/python3.8/site-packages/pulp/apis/coin_api.py:71: UserWarning: Parameter fracGap is being depreciated for gapRel\n",
      "  warnings.warn(\"Parameter fracGap is being depreciated for gapRel\")\n",
      "<ipython-input-14-109604fba953>:20: DeprecationWarning: The default dtype for empty Series will be 'object' instead of 'float64' in a future version. Specify a dtype explicitly to silence this warning.\n",
      "  sel_coupon = pd.Series([])\n"
     ]
    }
   ],
   "source": [
    "df = pd.DataFrame(columns=['coupon_optimal','p_coupon_optimal'])\n",
    "objective = plp.lpSum(x_vars[i, j] * c[i, j] * d[i,j]\n",
    "                      for i in set_I for j in coupons_per_contract[i])\n",
    "# our model objective maximazing expected LTV - cost \n",
    "# matrix d (LTV - cost)* matrix c (prob_matrix) * matrix x (matrix of selecting only on coupon per client)\n",
    "\n",
    "for k in constraints.keys():\n",
    "    opt_model.addConstraint(constraints[k])\n",
    "\n",
    "opt_model.sense = plp.LpMaximize\n",
    "opt_model.setObjective(objective)\n",
    "\n",
    "#opt_model.solve(plp.COIN(fracGap=0.002, msg=0))\n",
    "opt_model.solve(plp.PULP_CBC_CMD(fracGap=0.002, msg=0))\n",
    "#opt_model.solve() ## solve the model\n",
    "\n",
    "print('\\tProblem {}!\\n'.format(plp.constants.LpStatus[opt_model.status])) ## status\n",
    "\n",
    "print('\\tPrepare coupon data\\n')\n",
    "sel_coupon = pd.Series([])\n",
    "for var in opt_model.variables():\n",
    "\n",
    "    if var.varValue == 1:\n",
    "        i, j = int(var.name.split('_')[1]), int(var.name.split('_')[2]) ##saving the optimal results\n",
    "       \n",
    "\n",
    "        sel_coupon[i] = {'AMOUNT_RC': j,\n",
    "                                  'p': prob.loc[i]['prob_{}'.format(j)],\n",
    "                                 }"
   ]
  },
  {
   "cell_type": "code",
   "execution_count": 15,
   "metadata": {
    "ExecuteTime": {
     "end_time": "2021-10-21T09:56:37.629372Z",
     "start_time": "2021-10-21T09:56:37.610669Z"
    }
   },
   "outputs": [
    {
     "name": "stdout",
     "output_type": "stream",
     "text": [
      "['GLPK_CMD', 'PYGLPK', 'CPLEX_CMD', 'CPLEX_PY', 'CPLEX_DLL', 'GUROBI', 'GUROBI_CMD', 'MOSEK', 'XPRESS', 'PULP_CBC_CMD', 'COIN_CMD', 'COINMP_DLL', 'CHOCO_CMD', 'PULP_CHOCO_CMD', 'MIPCL_CMD', 'SCIP_CMD']\n",
      "['PULP_CBC_CMD', 'COIN_CMD']\n"
     ]
    }
   ],
   "source": [
    "print(plp.listSolvers())\n",
    "print(plp.listSolvers(onlyAvailable=True))"
   ]
  },
  {
   "cell_type": "code",
   "execution_count": 16,
   "metadata": {
    "ExecuteTime": {
     "end_time": "2021-10-21T09:56:38.371263Z",
     "start_time": "2021-10-21T09:56:38.364609Z"
    }
   },
   "outputs": [
    {
     "data": {
      "text/plain": [
       "1    {'AMOUNT_RC': 10, 'p': 0.8}\n",
       "2    {'AMOUNT_RC': 2, 'p': 0.04}\n",
       "3    {'AMOUNT_RC': 10, 'p': 0.3}\n",
       "dtype: object"
      ]
     },
     "execution_count": 16,
     "metadata": {},
     "output_type": "execute_result"
    }
   ],
   "source": [
    "sel_coupon"
   ]
  }
 ],
 "metadata": {
  "kernelspec": {
   "display_name": "Python 3",
   "language": "python",
   "name": "python3"
  },
  "language_info": {
   "codemirror_mode": {
    "name": "ipython",
    "version": 3
   },
   "file_extension": ".py",
   "mimetype": "text/x-python",
   "name": "python",
   "nbconvert_exporter": "python",
   "pygments_lexer": "ipython3",
   "version": "3.8.3"
  },
  "toc": {
   "base_numbering": 1,
   "nav_menu": {},
   "number_sections": true,
   "sideBar": true,
   "skip_h1_title": false,
   "title_cell": "Table of Contents",
   "title_sidebar": "Contents",
   "toc_cell": false,
   "toc_position": {},
   "toc_section_display": true,
   "toc_window_display": false
  }
 },
 "nbformat": 4,
 "nbformat_minor": 4
}
